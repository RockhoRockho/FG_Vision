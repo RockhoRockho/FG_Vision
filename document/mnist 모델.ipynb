{
 "cells": [
  {
   "cell_type": "code",
   "execution_count": 1,
   "id": "e3ca297d",
   "metadata": {},
   "outputs": [
    {
     "name": "stdout",
     "output_type": "stream",
     "text": [
      "Model: \"sequential\"\n",
      "_________________________________________________________________\n",
      " Layer (type)                Output Shape              Param #   \n",
      "=================================================================\n",
      " conv2d (Conv2D)             (None, 28, 28, 64)        640       \n",
      "                                                                 \n",
      " conv2d_1 (Conv2D)           (None, 28, 28, 64)        36928     \n",
      "                                                                 \n",
      " max_pooling2d (MaxPooling2D  (None, 14, 14, 64)       0         \n",
      " )                                                               \n",
      "                                                                 \n",
      " conv2d_2 (Conv2D)           (None, 14, 14, 128)       73856     \n",
      "                                                                 \n",
      " conv2d_3 (Conv2D)           (None, 12, 12, 256)       295168    \n",
      "                                                                 \n",
      " max_pooling2d_1 (MaxPooling  (None, 6, 6, 256)        0         \n",
      " 2D)                                                             \n",
      "                                                                 \n",
      " flatten (Flatten)           (None, 9216)              0         \n",
      "                                                                 \n",
      " dense (Dense)               (None, 512)               4719104   \n",
      "                                                                 \n",
      " dropout (Dropout)           (None, 512)               0         \n",
      "                                                                 \n",
      " dense_1 (Dense)             (None, 256)               131328    \n",
      "                                                                 \n",
      " dropout_1 (Dropout)         (None, 256)               0         \n",
      "                                                                 \n",
      " dense_2 (Dense)             (None, 10)                2570      \n",
      "                                                                 \n",
      "=================================================================\n",
      "Total params: 5,259,594\n",
      "Trainable params: 5,259,594\n",
      "Non-trainable params: 0\n",
      "_________________________________________________________________\n",
      "Epoch 1/10\n"
     ]
    },
    {
     "name": "stderr",
     "output_type": "stream",
     "text": [
      "C:\\ProgramData\\Anaconda3\\lib\\site-packages\\keras\\optimizers\\optimizer_v2\\adam.py:110: UserWarning: The `lr` argument is deprecated, use `learning_rate` instead.\n",
      "  super(Adam, self).__init__(name, **kwargs)\n"
     ]
    },
    {
     "name": "stdout",
     "output_type": "stream",
     "text": [
      "600/600 [==============================] - 239s 397ms/step - loss: 0.1871 - accuracy: 0.9420 - val_loss: 0.0437 - val_accuracy: 0.9872\n",
      "Epoch 2/10\n",
      "600/600 [==============================] - 237s 395ms/step - loss: 0.0558 - accuracy: 0.9840 - val_loss: 0.0247 - val_accuracy: 0.9921\n",
      "Epoch 3/10\n",
      "600/600 [==============================] - 217s 361ms/step - loss: 0.0388 - accuracy: 0.9888 - val_loss: 0.0327 - val_accuracy: 0.9895\n",
      "Epoch 4/10\n",
      "600/600 [==============================] - 216s 361ms/step - loss: 0.0310 - accuracy: 0.9912 - val_loss: 0.0240 - val_accuracy: 0.9923\n",
      "Epoch 5/10\n",
      "600/600 [==============================] - 224s 373ms/step - loss: 0.0282 - accuracy: 0.9915 - val_loss: 0.0281 - val_accuracy: 0.9908\n",
      "Epoch 6/10\n",
      "600/600 [==============================] - 216s 359ms/step - loss: 0.0229 - accuracy: 0.9937 - val_loss: 0.0200 - val_accuracy: 0.9932\n",
      "Epoch 7/10\n",
      "600/600 [==============================] - 209s 348ms/step - loss: 0.0197 - accuracy: 0.9944 - val_loss: 0.0265 - val_accuracy: 0.9929\n",
      "Epoch 8/10\n",
      "600/600 [==============================] - 209s 348ms/step - loss: 0.0169 - accuracy: 0.9951 - val_loss: 0.0282 - val_accuracy: 0.9934\n",
      "Epoch 9/10\n",
      "600/600 [==============================] - 210s 350ms/step - loss: 0.0163 - accuracy: 0.9953 - val_loss: 0.0309 - val_accuracy: 0.9925\n",
      "Epoch 10/10\n",
      "600/600 [==============================] - 209s 348ms/step - loss: 0.0168 - accuracy: 0.9954 - val_loss: 0.0253 - val_accuracy: 0.9937\n",
      "313/313 [==============================] - 7s 21ms/step - loss: 0.0253 - accuracy: 0.9937\n",
      "최종 예측 성공률(%):  99.37000274658203\n"
     ]
    }
   ],
   "source": [
    "import tensorflow as tf\n",
    "import numpy as np\n",
    "import matplotlib.pyplot as plt\n",
    "\n",
    "(x_train, y_train), (x_test, y_test) = tf.keras.datasets.mnist.load_data()\n",
    "\n",
    "# 각종 파라메터의 영향을 보기 위해 랜덤값 고정\n",
    "tf.random.set_seed(1234)\n",
    "\n",
    "# Normalizing data\n",
    "x_train, x_test = x_train / 255.0, x_test / 255.0\n",
    "\n",
    "# (60000, 28, 28) => (60000, 28, 28, 1)로 reshape\n",
    "x_train = x_train.reshape(-1, 28, 28, 1)\n",
    "x_test = x_test.reshape(-1, 28, 28, 1)\n",
    "\n",
    "# One-hot 인코딩\n",
    "y_train = tf.keras.utils.to_categorical(y_train, 10)\n",
    "y_test = tf.keras.utils.to_categorical(y_test, 10)\n",
    "\n",
    "model = tf.keras.Sequential([\n",
    "    tf.keras.layers.Conv2D(kernel_size=(3,3), filters=64, input_shape=(28,28,1), padding='same', activation='relu'),\n",
    "    tf.keras.layers.Conv2D(kernel_size=(3,3), filters=64, padding='same', activation='relu'),\n",
    "    tf.keras.layers.MaxPool2D(pool_size=(2,2)),\n",
    "\n",
    "    tf.keras.layers.Conv2D(kernel_size=(3,3), filters=128, padding='same', activation='relu'),\n",
    "    tf.keras.layers.Conv2D(kernel_size=(3,3), filters=256, padding='valid', activation='relu'),\n",
    "    tf.keras.layers.MaxPool2D(pool_size=(2,2)),\n",
    "\n",
    "    tf.keras.layers.Flatten(),\n",
    "    tf.keras.layers.Dense(units=512, activation='relu'),\n",
    "    tf.keras.layers.Dropout(0.5),\n",
    "    tf.keras.layers.Dense(units=256, activation='relu'),\n",
    "    tf.keras.layers.Dropout(0.5),\n",
    "    tf.keras.layers.Dense(units=10, activation='softmax')\n",
    "])\n",
    "\n",
    "model.compile(loss='categorical_crossentropy', optimizer=tf.optimizers.Adam(lr=0.001), metrics=['accuracy'])\n",
    "model.summary()\n",
    "\n",
    "model.fit(x_train, y_train, batch_size=100, epochs=10, validation_data=(x_test, y_test))\n",
    "\n",
    "result = model.evaluate(x_test, y_test)\n",
    "print(\"최종 예측 성공률(%): \", result[1]*100)"
   ]
  },
  {
   "cell_type": "code",
   "execution_count": 2,
   "id": "9c0a959e",
   "metadata": {},
   "outputs": [],
   "source": [
    "model.save('./mnist.h5')"
   ]
  },
  {
   "cell_type": "code",
   "execution_count": null,
   "id": "a83f8d79",
   "metadata": {},
   "outputs": [],
   "source": []
  }
 ],
 "metadata": {
  "kernelspec": {
   "display_name": "Python 3 (ipykernel)",
   "language": "python",
   "name": "python3"
  },
  "language_info": {
   "codemirror_mode": {
    "name": "ipython",
    "version": 3
   },
   "file_extension": ".py",
   "mimetype": "text/x-python",
   "name": "python",
   "nbconvert_exporter": "python",
   "pygments_lexer": "ipython3",
   "version": "3.9.12"
  }
 },
 "nbformat": 4,
 "nbformat_minor": 5
}
