{
 "cells": [
  {
   "cell_type": "code",
   "execution_count": 1,
   "id": "018a25a9",
   "metadata": {},
   "outputs": [
    {
     "data": {
      "text/plain": [
       "['D:\\\\DevRoot\\\\project\\\\FG_Vision',\n",
       " 'C:\\\\ProgramData\\\\Anaconda3\\\\python39.zip',\n",
       " 'C:\\\\ProgramData\\\\Anaconda3\\\\DLLs',\n",
       " 'C:\\\\ProgramData\\\\Anaconda3\\\\lib',\n",
       " 'C:\\\\ProgramData\\\\Anaconda3',\n",
       " '',\n",
       " 'C:\\\\ProgramData\\\\Anaconda3\\\\lib\\\\site-packages',\n",
       " 'C:\\\\ProgramData\\\\Anaconda3\\\\lib\\\\site-packages\\\\win32',\n",
       " 'C:\\\\ProgramData\\\\Anaconda3\\\\lib\\\\site-packages\\\\win32\\\\lib',\n",
       " 'C:\\\\ProgramData\\\\Anaconda3\\\\lib\\\\site-packages\\\\Pythonwin']"
      ]
     },
     "execution_count": 1,
     "metadata": {},
     "output_type": "execute_result"
    }
   ],
   "source": [
    "import sys\n",
    "sys.path"
   ]
  },
  {
   "cell_type": "code",
   "execution_count": 250,
   "id": "cf990503",
   "metadata": {},
   "outputs": [],
   "source": [
    "domain = []"
   ]
  },
  {
   "cell_type": "code",
   "execution_count": 251,
   "id": "1a972379",
   "metadata": {},
   "outputs": [],
   "source": [
    "import matplotlib.pyplot as plt"
   ]
  },
  {
   "cell_type": "code",
   "execution_count": null,
   "id": "5915dbea",
   "metadata": {},
   "outputs": [],
   "source": [
    "import cv2 \n",
    "import numpy as np \n",
    "\n",
    "class MouseGesture():\n",
    "    def __init__(self) -> None:\n",
    "        self.is_dragging = False \n",
    "        # 마우스 위치 값 임시 저장을 위한 변수 \n",
    "        self.x0, self.y0, self.w0, self.h0 = -1,-1,-1,-1\n",
    "\n",
    "    def on_mouse(self, event, x, y, flags, param):\n",
    "        if event == cv2.EVENT_LBUTTONDOWN:\n",
    "            self.x0 = x\n",
    "            self.y0 = y\n",
    "            self.is_dragging = True\n",
    "            print(\"사각형의 시작 좌표는 x : {} y : {}\".format(x,y) )\n",
    "        elif event == cv2.EVENT_LBUTTONUP:\n",
    "            self.is_dragging = False\n",
    "            cv2.rectangle(param['image'], (self.x0, self.y0), (x,y),(0,0,255),2)            \n",
    "            cv2.imshow(param['window_name'], param['image'])\n",
    "            print(\"사각형의 좌표는 ({}, {}), ({}, {})\".format(self.x0,self.y0,x,y) )\n",
    "            img_cropped = cv2.getRectSubPix(\n",
    "                image,\n",
    "                patchSize=(x - self.x0, y - self.y0),\n",
    "                center=(((self.x0 + x) / 2), ((self.y0 + y) / 2)),\n",
    "            )\n",
    "            plt.imshow(img_cropped)\n",
    "            domain.append({\n",
    "                \"label\": \"신청서비스 본인발급시 문자전송여부\",\n",
    "                \"w\": int(x - self.x0),\n",
    "                \"h\": int(y - self.y0),\n",
    "                \"cx\": int((self.x0 + x) / 2),\n",
    "                \"cy\": int((self.y0 + y) / 2),\n",
    "            })\n",
    "            print(domain)\n",
    "        elif event == cv2.EVENT_MOUSEMOVE:\n",
    "            if self.is_dragging:\n",
    "                temp_img = param['image'].copy()\n",
    "                cv2.rectangle(temp_img, (self.x0, self.y0), (x,y),(0,0,255),4)            \n",
    "                cv2.imshow(param['window_name'], temp_img)\n",
    "        return \n",
    "\n",
    "\n",
    "image = cv2.imread('./static/img/16.jpg')\n",
    "image = cv2.resize(image, (2480, 3508))\n",
    "window_name = 'mouse_callback'\n",
    "mouse_class = MouseGesture()\n",
    "param = {\n",
    "    \"image\" : image,\n",
    "    \"window_name\" : window_name\n",
    "}\n",
    "\n",
    "cv2.namedWindow(window_name, cv2.WINDOW_NORMAL)\n",
    "cv2.imshow(window_name, image)\n",
    "cv2.resizeWindow(window_name, 1000, 1500)\n",
    "cv2.setMouseCallback(window_name, mouse_class.on_mouse, param=param)\n",
    "cv2.waitKey(0)\n",
    "cv2.destroyAllWindows()"
   ]
  },
  {
   "cell_type": "code",
   "execution_count": 259,
   "id": "45daeeb0",
   "metadata": {
    "scrolled": true
   },
   "outputs": [
    {
     "data": {
      "text/plain": [
       "{'label': '해지 신청서 여부', 'w': 62, 'h': 74, 'cx': 1365, 'cy': 507}"
      ]
     },
     "execution_count": 259,
     "metadata": {},
     "output_type": "execute_result"
    }
   ],
   "source": [
    "domain.pop(-1)"
   ]
  },
  {
   "cell_type": "code",
   "execution_count": 211,
   "id": "1a0be283",
   "metadata": {},
   "outputs": [
    {
     "data": {
      "text/plain": [
       "<matplotlib.image.AxesImage at 0x1e20123e2e0>"
      ]
     },
     "execution_count": 211,
     "metadata": {},
     "output_type": "execute_result"
    },
    {
     "data": {
      "image/png": "[encoded data removed]",
      "text/plain": [
       "<Figure size 432x288 with 1 Axes>"
      ]
     },
     "metadata": {
      "needs_background": "light"
     },
     "output_type": "display_data"
    }
   ],
   "source": [
    "i = -1\n",
    "img_cropped = cv2.getRectSubPix(\n",
    "                image,\n",
    "                patchSize=(domain[i]['w'], domain[i]['h']),\n",
    "                center=(domain[i]['cx'], domain[i]['cy']),\n",
    "            )\n",
    "plt.imshow(img_cropped)"
   ]
  },
  {
   "cell_type": "code",
   "execution_count": 154,
   "id": "e18ba683",
   "metadata": {},
   "outputs": [
    {
     "data": {
      "text/plain": [
       "26"
      ]
     },
     "execution_count": 154,
     "metadata": {},
     "output_type": "execute_result"
    }
   ],
   "source": [
    "len(domain)"
   ]
  },
  {
   "cell_type": "code",
   "execution_count": 249,
   "id": "3e5a74a2",
   "metadata": {},
   "outputs": [
    {
     "data": {
      "text/plain": [
       "[{'label': '제목', 'w': 459, 'h': 82, 'cx': 608, 'cy': 286},\n",
       " {'label': '출생자 성명(한글)', 'w': 473, 'h': 139, 'cx': 787, 'cy': 457},\n",
       " {'label': '출생자 성명(한자)', 'w': 476, 'h': 136, 'cx': 789, 'cy': 606},\n",
       " {'label': '출생자 출생일시', 'w': 813, 'h': 65, 'cx': 957, 'cy': 719},\n",
       " {'label': '출생자 출생장소', 'w': 1049, 'h': 68, 'cx': 1543, 'cy': 800},\n",
       " {'label': '출생자 부모가 정한 등록기준지', 'w': 1207, 'h': 68, 'cx': 1464, 'cy': 881},\n",
       " {'label': '출생자 주소', 'w': 922, 'h': 119, 'cx': 920, 'cy': 988},\n",
       " {'label': '출생자 세대주 및 관계', 'w': 365, 'h': 119, 'cx': 1888, 'cy': 988},\n",
       " {'label': '출생자 복수국적자일 경우 외국국적', 'w': 590, 'h': 65, 'cx': 1773, 'cy': 1090},\n",
       " {'label': '부모 부(성명)', 'w': 209, 'h': 71, 'cx': 602, 'cy': 1175},\n",
       " {'label': '부모 부(성명-한자)', 'w': 178, 'h': 68, 'cx': 1379, 'cy': 1174},\n",
       " {'label': '부모 부 주민등록번호', 'w': 305, 'h': 71, 'cx': 1918, 'cy': 1175},\n",
       " {'label': '부모 모(성명)', 'w': 213, 'h': 71, 'cx': 602, 'cy': 1257},\n",
       " {'label': '부모 모(성명-한자)', 'w': 178, 'h': 68, 'cx': 1379, 'cy': 1256},\n",
       " {'label': '부모 모 주민등록번호', 'w': 305, 'h': 64, 'cx': 1918, 'cy': 1254},\n",
       " {'label': '부의 등록기준지', 'w': 1377, 'h': 68, 'cx': 1382, 'cy': 1334},\n",
       " {'label': '모의 등록기준지', 'w': 1374, 'h': 68, 'cx': 1381, 'cy': 1415},\n",
       " {'label': '폐쇄등록부상 특정사항 성명', 'w': 349, 'h': 68, 'cx': 1035, 'cy': 1654},\n",
       " {'label': '폐쇄등록부상 특정사항 주민등록번호', 'w': 571, 'h': 68, 'cx': 1785, 'cy': 1654},\n",
       " {'label': '폐쇄등록부상 특정사항 등록기준지', 'w': 1108, 'h': 62, 'cx': 1514, 'cy': 1732},\n",
       " {'label': '기타사항', 'w': 1567, 'h': 68, 'cx': 1284, 'cy': 1814},\n",
       " {'label': '신고인 성명', 'w': 484, 'h': 61, 'cx': 740, 'cy': 1891},\n",
       " {'label': '신고인 주민등록번호', 'w': 568, 'h': 65, 'cx': 1784, 'cy': 1893},\n",
       " {'label': '신고인 주소', 'w': 1573, 'h': 115, 'cx': 1284, 'cy': 2075},\n",
       " {'label': '신고인 전호', 'w': 531, 'h': 65, 'cx': 763, 'cy': 2179},\n",
       " {'label': '신고인 이메일', 'w': 821, 'h': 65, 'cx': 1662, 'cy': 2179},\n",
       " {'label': '제출인 성명', 'w': 365, 'h': 64, 'cx': 844, 'cy': 2254},\n",
       " {'label': '제출인 주민등록번호', 'w': 699, 'h': 61, 'cx': 1723, 'cy': 2255},\n",
       " {'label': '제목', 'w': 278, 'h': 95, 'cx': 1163, 'cy': 353},\n",
       " {'label': '접수번호', 'w': 506, 'h': 85, 'cx': 652, 'cy': 590},\n",
       " {'label': '접수일', 'w': 545, 'h': 85, 'cx': 1299, 'cy': 590},\n",
       " {'label': '처리기간', 'w': 148, 'h': 81, 'cx': 1808, 'cy': 588},\n",
       " {'label': '신청인 성명', 'w': 652, 'h': 75, 'cx': 983, 'cy': 694},\n",
       " {'label': '신청인 주민등록번호', 'w': 553, 'h': 75, 'cx': 1600, 'cy': 758},\n",
       " {'label': '신청인 국적', 'w': 350, 'h': 72, 'cx': 2062, 'cy': 757},\n",
       " {'label': '신청인 주소', 'w': 1217, 'h': 105, 'cx': 1268, 'cy': 862},\n",
       " {'label': '신청인 인감보호 신청내용', 'w': 1319, 'h': 133, 'cx': 1217, 'cy': 1066},\n",
       " {'label': '신청인 우무인', 'w': 355, 'h': 259, 'cx': 2064, 'cy': 1003},\n",
       " {'label': '미성년자/법정대리인/한정후견인/성년후견인 성명',\n",
       "  'w': 662,\n",
       "  'h': 157,\n",
       "  'cx': 988,\n",
       "  'cy': 1265},\n",
       " {'label': '미성년자/법정대리인/한정후견인/성년후견인 생년월일',\n",
       "  'w': 757,\n",
       "  'h': 95,\n",
       "  'cx': 938,\n",
       "  'cy': 1466},\n",
       " {'label': '미성년자/법정대리인/한정후견인/성년후견인 신청인과의 관계',\n",
       "  'w': 553,\n",
       "  'h': 249,\n",
       "  'cx': 1600,\n",
       "  'cy': 1386},\n",
       " {'label': '미성년자/법정대리인/한정후견인/성년후견인 주소',\n",
       "  'w': 1575,\n",
       "  'h': 143,\n",
       "  'cx': 1449,\n",
       "  'cy': 1599},\n",
       " {'label': '인감보호 신청여부', 'w': 30, 'h': 91, 'cx': 955, 'cy': 355},\n",
       " {'label': '인감보호 해지신청여부', 'w': 30, 'h': 85, 'cx': 955, 'cy': 440}]"
      ]
     },
     "execution_count": 249,
     "metadata": {},
     "output_type": "execute_result"
    }
   ],
   "source": [
    "domain"
   ]
  },
  {
   "cell_type": "code",
   "execution_count": null,
   "id": "23073bc9",
   "metadata": {},
   "outputs": [],
   "source": []
  }
 ],
 "metadata": {
  "kernelspec": {
   "display_name": "Python 3 (ipykernel)",
   "language": "python",
   "name": "python3"
  },
  "language_info": {
   "codemirror_mode": {
    "name": "ipython",
    "version": 3
   },
   "file_extension": ".py",
   "mimetype": "text/x-python",
   "name": "python",
   "nbconvert_exporter": "python",
   "pygments_lexer": "ipython3",
   "version": "3.9.12"
  }
 },
 "nbformat": 4,
 "nbformat_minor": 5
}
