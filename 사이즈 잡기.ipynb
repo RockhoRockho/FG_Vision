{
 "cells": [
  {
   "cell_type": "code",
   "execution_count": 93,
   "id": "018a25a9",
   "metadata": {},
   "outputs": [
    {
     "data": {
      "text/plain": [
       "['C:\\\\Users\\\\dkssu\\\\FG_Vision',\n",
       " 'C:\\\\Users\\\\dkssu\\\\anaconda3\\\\python38.zip',\n",
       " 'C:\\\\Users\\\\dkssu\\\\anaconda3\\\\DLLs',\n",
       " 'C:\\\\Users\\\\dkssu\\\\anaconda3\\\\lib',\n",
       " 'C:\\\\Users\\\\dkssu\\\\anaconda3',\n",
       " '',\n",
       " 'C:\\\\Users\\\\dkssu\\\\AppData\\\\Roaming\\\\Python\\\\Python38\\\\site-packages',\n",
       " 'C:\\\\Users\\\\dkssu\\\\anaconda3\\\\lib\\\\site-packages',\n",
       " 'C:\\\\Users\\\\dkssu\\\\anaconda3\\\\lib\\\\site-packages\\\\locket-0.2.1-py3.8.egg',\n",
       " 'C:\\\\Users\\\\dkssu\\\\anaconda3\\\\lib\\\\site-packages\\\\win32',\n",
       " 'C:\\\\Users\\\\dkssu\\\\anaconda3\\\\lib\\\\site-packages\\\\win32\\\\lib',\n",
       " 'C:\\\\Users\\\\dkssu\\\\anaconda3\\\\lib\\\\site-packages\\\\Pythonwin',\n",
       " 'C:\\\\Users\\\\dkssu\\\\anaconda3\\\\lib\\\\site-packages\\\\IPython\\\\extensions',\n",
       " 'C:\\\\Users\\\\dkssu\\\\.ipython']"
      ]
     },
     "execution_count": 93,
     "metadata": {},
     "output_type": "execute_result"
    }
   ],
   "source": [
    "import sys\n",
    "sys.path"
   ]
  },
  {
   "cell_type": "code",
   "execution_count": 237,
   "id": "cf990503",
   "metadata": {},
   "outputs": [],
   "source": [
    "domain = []"
   ]
  },
  {
   "cell_type": "code",
   "execution_count": 2,
   "id": "1a972379",
   "metadata": {},
   "outputs": [],
   "source": [
    "import matplotlib.pyplot as plt"
   ]
  },
  {
   "cell_type": "code",
   "execution_count": 244,
   "id": "5915dbea",
   "metadata": {},
   "outputs": [
    {
     "name": "stdout",
     "output_type": "stream",
     "text": [
      "사각형의 시작 좌표는 x : 1423 y : 1530\n",
      "사각형의 좌표는 (1423, 1530), (1458, 1595)\n",
      "[{'label': '출입국 사실증명 종류 수량', 'w': 37, 'h': 55, 'cx': 1044, 'cy': 1111}, {'label': '외국인등록 사실증명 종류 수량', 'w': 27, 'h': 60, 'cx': 992, 'cy': 1169}, {'label': '외국인등록 열람 수', 'w': 35, 'h': 50, 'cx': 919, 'cy': 1224}, {'label': '출입국 사실증명 영문성명 병기신청', 'w': 35, 'h': 80, 'cx': 1420, 'cy': 1299}, {'label': '외국인등록 사실증명 과거등록번호 포함여부', 'w': 37, 'h': 60, 'cx': 1421, 'cy': 1445}, {'label': '외국인등록 사실증명 과거체류지 변동사항 포함여부', 'w': 35, 'h': 65, 'cx': 1440, 'cy': 1562}]\n"
     ]
    },
    {
     "data": {
      "image/png": "[encoded data removed]",
      "text/plain": [
       "<Figure size 432x288 with 1 Axes>"
      ]
     },
     "metadata": {
      "needs_background": "light"
     },
     "output_type": "display_data"
    }
   ],
   "source": [
    "import cv2 \n",
    "import numpy as np \n",
    "\n",
    "class MouseGesture():\n",
    "    def __init__(self) -> None:\n",
    "        self.is_dragging = False \n",
    "        # 마우스 위치 값 임시 저장을 위한 변수 \n",
    "        self.x0, self.y0, self.w0, self.h0 = -1,-1,-1,-1\n",
    "\n",
    "    def on_mouse(self, event, x, y, flags, param):\n",
    "        if event == cv2.EVENT_LBUTTONDOWN:\n",
    "            self.x0 = x\n",
    "            self.y0 = y\n",
    "            self.is_dragging = True\n",
    "            print(\"사각형의 시작 좌표는 x : {} y : {}\".format(x,y) )\n",
    "        elif event == cv2.EVENT_LBUTTONUP:\n",
    "            self.is_dragging = False\n",
    "            cv2.rectangle(param['image'], (self.x0, self.y0), (x,y),(0,0,255),2)            \n",
    "            cv2.imshow(param['window_name'], param['image'])\n",
    "            print(\"사각형의 좌표는 ({}, {}), ({}, {})\".format(self.x0,self.y0,x,y) )\n",
    "            img_cropped = cv2.getRectSubPix(\n",
    "                image,\n",
    "                patchSize=(x - self.x0, y - self.y0),\n",
    "                center=(((self.x0 + x) / 2), ((self.y0 + y) / 2)),\n",
    "            )\n",
    "            plt.imshow(img_cropped)\n",
    "            domain.append({\n",
    "                'label': '외국인등록 사실증명 과거체류지 변동사항 포함여부',\n",
    "                'w': int(x - self.x0),\n",
    "                'h': int(y - self.y0),\n",
    "                'cx': int((self.x0 + x) / 2),\n",
    "                'cy': int((self.y0 + y) / 2),\n",
    "            })\n",
    "            print(domain)\n",
    "        elif event == cv2.EVENT_MOUSEMOVE:\n",
    "            if self.is_dragging:\n",
    "                temp_img = param['image'].copy()\n",
    "                cv2.rectangle(temp_img, (self.x0, self.y0), (x,y),(0,0,255),4)            \n",
    "                cv2.imshow(param['window_name'], temp_img)\n",
    "        return \n",
    "\n",
    "\n",
    "image = cv2.imread('11-1.jpg')\n",
    "image = cv2.resize(image, (2480, 3508))\n",
    "window_name = 'mouse_callback'\n",
    "mouse_class = MouseGesture()\n",
    "param = {\n",
    "    \"image\" : image,\n",
    "    \"window_name\" : window_name\n",
    "}\n",
    "\n",
    "cv2.namedWindow(window_name, cv2.WINDOW_NORMAL)\n",
    "cv2.imshow(window_name, image)\n",
    "cv2.resizeWindow(window_name, 1000, 1500)\n",
    "cv2.setMouseCallback(window_name, mouse_class.on_mouse, param=param)\n",
    "cv2.waitKey(0)\n",
    "cv2.destroyAllWindows()"
   ]
  },
  {
   "cell_type": "code",
   "execution_count": 216,
   "id": "45daeeb0",
   "metadata": {
    "scrolled": true
   },
   "outputs": [
    {
     "data": {
      "text/plain": [
       "{'label': '과거주소 변동사항 직접입력', 'w': 102, 'h': 71, 'cx': 2109, 'cy': 1620}"
      ]
     },
     "execution_count": 216,
     "metadata": {},
     "output_type": "execute_result"
    }
   ],
   "source": [
    "domain.pop(-1)"
   ]
  },
  {
   "cell_type": "code",
   "execution_count": 160,
   "id": "1a0be283",
   "metadata": {},
   "outputs": [
    {
     "data": {
      "text/plain": [
       "<matplotlib.image.AxesImage at 0x1de71be9130>"
      ]
     },
     "execution_count": 160,
     "metadata": {},
     "output_type": "execute_result"
    },
    {
     "data": {
      "image/png": "[encoded data removed]",
      "text/plain": [
       "<Figure size 432x288 with 1 Axes>"
      ]
     },
     "metadata": {
      "needs_background": "light"
     },
     "output_type": "display_data"
    }
   ],
   "source": [
    "i = 2\n",
    "img_cropped = cv2.getRectSubPix(\n",
    "                image,\n",
    "                patchSize=(domain[i]['w'], domain[i]['h']),\n",
    "                center=(domain[i]['cx'], domain[i]['cy']),\n",
    "            )\n",
    "plt.imshow(img_cropped)"
   ]
  },
  {
   "cell_type": "code",
   "execution_count": 59,
   "id": "e18ba683",
   "metadata": {},
   "outputs": [
    {
     "data": {
      "text/plain": [
       "2"
      ]
     },
     "execution_count": 59,
     "metadata": {},
     "output_type": "execute_result"
    }
   ],
   "source": [
    "len(domain)"
   ]
  },
  {
   "cell_type": "code",
   "execution_count": 245,
   "id": "3e5a74a2",
   "metadata": {},
   "outputs": [
    {
     "data": {
      "text/plain": [
       "[{'label': '출입국 사실증명 종류 수량', 'w': 37, 'h': 55, 'cx': 1044, 'cy': 1111},\n",
       " {'label': '외국인등록 사실증명 종류 수량', 'w': 27, 'h': 60, 'cx': 992, 'cy': 1169},\n",
       " {'label': '외국인등록 열람 수', 'w': 35, 'h': 50, 'cx': 919, 'cy': 1224},\n",
       " {'label': '출입국 사실증명 영문성명 병기신청', 'w': 35, 'h': 80, 'cx': 1420, 'cy': 1299},\n",
       " {'label': '외국인등록 사실증명 과거등록번호 포함여부', 'w': 37, 'h': 60, 'cx': 1421, 'cy': 1445},\n",
       " {'label': '외국인등록 사실증명 과거체류지 변동사항 포함여부',\n",
       "  'w': 35,\n",
       "  'h': 65,\n",
       "  'cx': 1440,\n",
       "  'cy': 1562}]"
      ]
     },
     "execution_count": 245,
     "metadata": {},
     "output_type": "execute_result"
    }
   ],
   "source": [
    "domain"
   ]
  },
  {
   "cell_type": "code",
   "execution_count": null,
   "id": "23073bc9",
   "metadata": {},
   "outputs": [],
   "source": []
  }
 ],
 "metadata": {
  "kernelspec": {
   "display_name": "Python 3",
   "language": "python",
   "name": "python3"
  },
  "language_info": {
   "codemirror_mode": {
    "name": "ipython",
    "version": 3
   },
   "file_extension": ".py",
   "mimetype": "text/x-python",
   "name": "python",
   "nbconvert_exporter": "python",
   "pygments_lexer": "ipython3",
   "version": "3.8.8"
  }
 },
 "nbformat": 4,
 "nbformat_minor": 5
}
