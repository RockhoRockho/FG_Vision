{
 "cells": [
  {
   "cell_type": "code",
   "execution_count": 1,
   "id": "b355f7d8",
   "metadata": {},
   "outputs": [],
   "source": [
    "import csv\n",
    "import json"
   ]
  },
  {
   "cell_type": "code",
   "execution_count": 2,
   "id": "f79c1b37",
   "metadata": {},
   "outputs": [],
   "source": [
    "final = []\n",
    "\n",
    "with open('jsonbase.json', encoding='utf-8') as json_file:\n",
    "    json_data = json.load(json_file)"
   ]
  },
  {
   "cell_type": "code",
   "execution_count": 4,
   "id": "f758e333",
   "metadata": {},
   "outputs": [],
   "source": [
    "for i in range(len(json_data)):\n",
    "    final = []\n",
    "    for j in range(1, len(json_data[i]['lot'])):\n",
    "        final.append(json_data[i]['lot'][j]['label'])\n",
    "    with open('{}.csv'.format(json_data[i]['form_title']), 'w', encoding='UTF8', newline='') as f:\n",
    "        writer = csv.writer(f)\n",
    "        #한줄 넣는다\n",
    "        writer.writerows([final])"
   ]
  }
 ],
 "metadata": {
  "kernelspec": {
   "display_name": "Python 3",
   "language": "python",
   "name": "python3"
  },
  "language_info": {
   "codemirror_mode": {
    "name": "ipython",
    "version": 3
   },
   "file_extension": ".py",
   "mimetype": "text/x-python",
   "name": "python",
   "nbconvert_exporter": "python",
   "pygments_lexer": "ipython3",
   "version": "3.8.8"
  }
 },
 "nbformat": 4,
 "nbformat_minor": 5
}
